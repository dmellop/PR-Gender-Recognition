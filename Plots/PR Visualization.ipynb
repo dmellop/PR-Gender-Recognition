{
 "cells": [
  {
   "cell_type": "markdown",
   "metadata": {},
   "source": [
    "# PR Project Visualizations"
   ]
  },
  {
   "cell_type": "code",
   "execution_count": 81,
   "metadata": {
    "collapsed": false
   },
   "outputs": [
    {
     "data": {
      "text/html": [
       "<table>\n",
       "<thead><tr><th scope=col>Video.Name</th><th scope=col>Category</th><th scope=col>Actual.Count</th><th scope=col>Females</th><th scope=col>Males</th><th scope=col>Results</th><th scope=col>Found.Females</th><th scope=col>Found.Males</th></tr></thead>\n",
       "<tbody>\n",
       "\t<tr><td>3 Products Apple Should've Made                                 </td><td>Apple Products                                                  </td><td> 1                                                              </td><td>0                                                               </td><td>1                                                               </td><td>3                                                               </td><td>3                                                               </td><td>0                                                               </td></tr>\n",
       "\t<tr><td>8 Discontinued Apple Products You May Not Remember              </td><td>Apple Products                                                  </td><td>17                                                              </td><td>8                                                               </td><td>9                                                               </td><td>4                                                               </td><td>2                                                               </td><td>2                                                               </td></tr>\n",
       "\t<tr><td>11 Awesome New apple products coming soon (LEAKED!!) early 2020!</td><td>Apple Products                                                  </td><td> 0                                                              </td><td>0                                                               </td><td>0                                                               </td><td>0                                                               </td><td>0                                                               </td><td>0                                                               </td></tr>\n",
       "\t<tr><td>All Of Apple's Products                                         </td><td>Apple Products                                                  </td><td> 5                                                              </td><td>2                                                               </td><td>3                                                               </td><td>3                                                               </td><td>0                                                               </td><td>3                                                               </td></tr>\n",
       "\t<tr><td>Apple products collection                                       </td><td>Apple Products                                                  </td><td> 1                                                              </td><td>0                                                               </td><td>1                                                               </td><td>1                                                               </td><td>1                                                               </td><td>0                                                               </td></tr>\n",
       "\t<tr><td>Apple’s Product Evolution                                       </td><td>Apple Products                                                  </td><td> 2                                                              </td><td>1                                                               </td><td>1                                                               </td><td>2                                                               </td><td>0                                                               </td><td>2                                                               </td></tr>\n",
       "</tbody>\n",
       "</table>\n"
      ],
      "text/latex": [
       "\\begin{tabular}{r|llllllll}\n",
       " Video.Name & Category & Actual.Count & Females & Males & Results & Found.Females & Found.Males\\\\\n",
       "\\hline\n",
       "\t 3 Products Apple Should've Made                                  & Apple Products                                                   &  1                                                               & 0                                                                & 1                                                                & 3                                                                & 3                                                                & 0                                                               \\\\\n",
       "\t 8 Discontinued Apple Products You May Not Remember               & Apple Products                                                   & 17                                                               & 8                                                                & 9                                                                & 4                                                                & 2                                                                & 2                                                               \\\\\n",
       "\t 11 Awesome New apple products coming soon (LEAKED!!) early 2020! & Apple Products                                                   &  0                                                               & 0                                                                & 0                                                                & 0                                                                & 0                                                                & 0                                                               \\\\\n",
       "\t All Of Apple's Products                                          & Apple Products                                                   &  5                                                               & 2                                                                & 3                                                                & 3                                                                & 0                                                                & 3                                                               \\\\\n",
       "\t Apple products collection                                        & Apple Products                                                   &  1                                                               & 0                                                                & 1                                                                & 1                                                                & 1                                                                & 0                                                               \\\\\n",
       "\t Apple’s Product Evolution                                        & Apple Products                                                   &  2                                                               & 1                                                                & 1                                                                & 2                                                                & 0                                                                & 2                                                               \\\\\n",
       "\\end{tabular}\n"
      ],
      "text/markdown": [
       "\n",
       "Video.Name | Category | Actual.Count | Females | Males | Results | Found.Females | Found.Males | \n",
       "|---|---|---|---|---|---|\n",
       "| 3 Products Apple Should've Made                                  | Apple Products                                                   |  1                                                               | 0                                                                | 1                                                                | 3                                                                | 3                                                                | 0                                                                | \n",
       "| 8 Discontinued Apple Products You May Not Remember               | Apple Products                                                   | 17                                                               | 8                                                                | 9                                                                | 4                                                                | 2                                                                | 2                                                                | \n",
       "| 11 Awesome New apple products coming soon (LEAKED!!) early 2020! | Apple Products                                                   |  0                                                               | 0                                                                | 0                                                                | 0                                                                | 0                                                                | 0                                                                | \n",
       "| All Of Apple's Products                                          | Apple Products                                                   |  5                                                               | 2                                                                | 3                                                                | 3                                                                | 0                                                                | 3                                                                | \n",
       "| Apple products collection                                        | Apple Products                                                   |  1                                                               | 0                                                                | 1                                                                | 1                                                                | 1                                                                | 0                                                                | \n",
       "| Apple’s Product Evolution                                        | Apple Products                                                   |  2                                                               | 1                                                                | 1                                                                | 2                                                                | 0                                                                | 2                                                                | \n",
       "\n",
       "\n"
      ],
      "text/plain": [
       "  Video.Name                                                      \n",
       "1 3 Products Apple Should've Made                                 \n",
       "2 8 Discontinued Apple Products You May Not Remember              \n",
       "3 11 Awesome New apple products coming soon (LEAKED!!) early 2020!\n",
       "4 All Of Apple's Products                                         \n",
       "5 Apple products collection                                       \n",
       "6 Apples Product Evolution                                       \n",
       "  Category       Actual.Count Females Males Results Found.Females Found.Males\n",
       "1 Apple Products  1           0       1     3       3             0          \n",
       "2 Apple Products 17           8       9     4       2             2          \n",
       "3 Apple Products  0           0       0     0       0             0          \n",
       "4 Apple Products  5           2       3     3       0             3          \n",
       "5 Apple Products  1           0       1     1       1             0          \n",
       "6 Apple Products  2           1       1     2       0             2          "
      ]
     },
     "metadata": {},
     "output_type": "display_data"
    }
   ],
   "source": [
    "# Read in the data\n",
    "\n",
    "res <- read.csv(\"results.csv\")\n",
    "head(res)"
   ]
  },
  {
   "cell_type": "markdown",
   "metadata": {},
   "source": [
    "## Comparing Actual Count with Results"
   ]
  },
  {
   "cell_type": "code",
   "execution_count": 133,
   "metadata": {
    "collapsed": false
   },
   "outputs": [
    {
     "data": {},
     "metadata": {},
     "output_type": "display_data"
    },
    {
     "data": {
      "image/png": "[encoded data removed]",
      "text/plain": [
       "plot without title"
      ]
     },
     "metadata": {},
     "output_type": "display_data"
    }
   ],
   "source": [
    "library(ggplot2)\n",
    "## Plot of actual and found count\n",
    "\n",
    "x = c(1:nrow(res))\n",
    "\n",
    "p11 <- ggplot(data = res) + \n",
    "geom_line(aes(x=x, y=Actual.Count, col = \"Actual Count\"), size = 0.7)+\n",
    "geom_line(aes(x=x, y=Results, col = \"Found by Algorithm\"), size = 0.7)+\n",
    "theme_bw()+\n",
    "ggtitle(\"Actual Count vs Found by Algorithm\")+\n",
    "xlab(\"Number of the Video\")+\n",
    "ylab(\"Count of Persons\")\n",
    "p11"
   ]
  },
  {
   "cell_type": "code",
   "execution_count": null,
   "metadata": {
    "collapsed": true
   },
   "outputs": [],
   "source": [
    "ggsave(\"p11\")"
   ]
  },
  {
   "cell_type": "markdown",
   "metadata": {},
   "source": [
    "## RMSE of Results"
   ]
  },
  {
   "cell_type": "code",
   "execution_count": 172,
   "metadata": {
    "collapsed": false
   },
   "outputs": [
    {
     "data": {
      "text/html": [
       "<table>\n",
       "<thead><tr><th scope=col>Category</th><th scope=col>RMSE</th></tr></thead>\n",
       "<tbody>\n",
       "\t<tr><td>Apple           </td><td>9.98248466064436</td></tr>\n",
       "\t<tr><td>Call of Duty    </td><td>2.12132034355964</td></tr>\n",
       "\t<tr><td>Coldplay        </td><td>3.29393381840012</td></tr>\n",
       "\t<tr><td>dance           </td><td>13.3322916259734</td></tr>\n",
       "\t<tr><td>Donald Trump    </td><td>5.9791303715507 </td></tr>\n",
       "\t<tr><td>introduction    </td><td>3.07408522978788</td></tr>\n",
       "\t<tr><td>marketplace     </td><td>3.90512483795333</td></tr>\n",
       "\t<tr><td>oscar           </td><td>13.4126805672841</td></tr>\n",
       "\t<tr><td>Sushi           </td><td>2.19089023002066</td></tr>\n",
       "\t<tr><td>Tartu           </td><td>4.52769256906871</td></tr>\n",
       "</tbody>\n",
       "</table>\n"
      ],
      "text/latex": [
       "\\begin{tabular}{ll}\n",
       " Category & RMSE\\\\\n",
       "\\hline\n",
       "\t Apple            & 9.98248466064436\\\\\n",
       "\t Call of Duty     & 2.12132034355964\\\\\n",
       "\t Coldplay         & 3.29393381840012\\\\\n",
       "\t dance            & 13.3322916259734\\\\\n",
       "\t Donald Trump     & 5.9791303715507 \\\\\n",
       "\t introduction     & 3.07408522978788\\\\\n",
       "\t marketplace      & 3.90512483795333\\\\\n",
       "\t oscar            & 13.4126805672841\\\\\n",
       "\t Sushi            & 2.19089023002066\\\\\n",
       "\t Tartu            & 4.52769256906871\\\\\n",
       "\\end{tabular}\n"
      ],
      "text/markdown": [
       "\n",
       "Category | RMSE | \n",
       "|---|---|---|---|---|---|---|---|---|---|\n",
       "| Apple            | 9.98248466064436 | \n",
       "| Call of Duty     | 2.12132034355964 | \n",
       "| Coldplay         | 3.29393381840012 | \n",
       "| dance            | 13.3322916259734 | \n",
       "| Donald Trump     | 5.9791303715507  | \n",
       "| introduction     | 3.07408522978788 | \n",
       "| marketplace      | 3.90512483795333 | \n",
       "| oscar            | 13.4126805672841 | \n",
       "| Sushi            | 2.19089023002066 | \n",
       "| Tartu            | 4.52769256906871 | \n",
       "\n",
       "\n"
      ],
      "text/plain": [
       "      Category     RMSE            \n",
       " [1,] Apple        9.98248466064436\n",
       " [2,] Call of Duty 2.12132034355964\n",
       " [3,] Coldplay     3.29393381840012\n",
       " [4,] dance        13.3322916259734\n",
       " [5,] Donald Trump 5.9791303715507 \n",
       " [6,] introduction 3.07408522978788\n",
       " [7,] marketplace  3.90512483795333\n",
       " [8,] oscar        13.4126805672841\n",
       " [9,] Sushi        2.19089023002066\n",
       "[10,] Tartu        4.52769256906871"
      ]
     },
     "metadata": {},
     "output_type": "display_data"
    }
   ],
   "source": [
    "# Get RMSE of results\n",
    "\n",
    "categories <- unique(res$Category)\n",
    "categories <- lapply(categories, as.character)\n",
    "cat_errors <- matrix(NA, nrow = length(categories), ncol = 2)\n",
    "\n",
    "for(i in c(1:length(categories)))\n",
    "{\n",
    "    temp <- res[res$Category == categories[i],]\n",
    "    rmse <- sqrt(mean((temp$Actual.Count - temp$Results)^2))\n",
    "    cat <- categories[[i]]\n",
    "    cat_errors[i,] <- cbind(cat, as.numeric(rmse))\n",
    "}\n",
    "\n",
    "colnames(cat_errors) <- c(\"Category\", \"RMSE\")\n",
    "cat_errors[1,1] <- \"Apple\"\n",
    "cat_errors\n"
   ]
  },
  {
   "cell_type": "code",
   "execution_count": 129,
   "metadata": {
    "collapsed": false
   },
   "outputs": [
    {
     "data": {
      "text/html": [
       "6.18196342542429"
      ],
      "text/latex": [
       "6.18196342542429"
      ],
      "text/markdown": [
       "6.18196342542429"
      ],
      "text/plain": [
       "[1] 6.181963"
      ]
     },
     "metadata": {},
     "output_type": "display_data"
    }
   ],
   "source": [
    "mean(as.numeric(cat_errors[,2]))"
   ]
  },
  {
   "cell_type": "code",
   "execution_count": 178,
   "metadata": {
    "collapsed": false
   },
   "outputs": [
    {
     "data": {},
     "metadata": {},
     "output_type": "display_data"
    },
    {
     "data": {
      "image/png": "[encoded data removed]",
      "text/plain": [
       "plot without title"
      ]
     },
     "metadata": {},
     "output_type": "display_data"
    }
   ],
   "source": [
    "# Plot RMSE-s\n",
    "p <- ggplot()+\n",
    "geom_bar(aes(x = cat_errors[,1], y = as.numeric(cat_errors[,2])), stat='identity')+\n",
    "theme_bw()+\n",
    "ggtitle(\"RMSE of Categories\")+\n",
    "ylab(\"Root Mean Square Error\")+\n",
    "xlab(\"Category\")+\n",
    "theme(axis.text.x = element_text(angle = 90, hjust = 1))+\n",
    "geom_text(aes(x=cat_errors[,1], y = as.numeric(cat_errors[,2]), label=cat_errors[,1], hjust = -0.05, angle = 90),\n",
    "          col = \"black\")+\n",
    "theme(axis.title.x=element_blank(),\n",
    "        axis.text.x=element_blank(),\n",
    "        axis.ticks.x=element_blank())+\n",
    "ylim(c(0,20))\n",
    "\n",
    "p\n"
   ]
  },
  {
   "cell_type": "code",
   "execution_count": 179,
   "metadata": {
    "collapsed": false
   },
   "outputs": [],
   "source": [
    "ggsave(filename=\"count_RMSE.png\", plot=p, height = 2, width = 6)"
   ]
  },
  {
   "cell_type": "markdown",
   "metadata": {},
   "source": [
    "## Results on Gender Recognition"
   ]
  },
  {
   "cell_type": "code",
   "execution_count": 87,
   "metadata": {
    "collapsed": false
   },
   "outputs": [
    {
     "data": {
      "text/html": [
       "<table>\n",
       "<thead><tr><th scope=col>Video.Name</th><th scope=col>Category</th><th scope=col>Actual.Count</th><th scope=col>Females</th><th scope=col>Males</th><th scope=col>Results</th><th scope=col>Found.Females</th><th scope=col>Found.Males</th></tr></thead>\n",
       "<tbody>\n",
       "\t<tr><td>3 Products Apple Should've Made                                 </td><td>Apple Products                                                  </td><td> 1                                                              </td><td>0                                                               </td><td>1                                                               </td><td>3                                                               </td><td>3                                                               </td><td>0                                                               </td></tr>\n",
       "\t<tr><td>8 Discontinued Apple Products You May Not Remember              </td><td>Apple Products                                                  </td><td>17                                                              </td><td>8                                                               </td><td>9                                                               </td><td>4                                                               </td><td>2                                                               </td><td>2                                                               </td></tr>\n",
       "\t<tr><td>11 Awesome New apple products coming soon (LEAKED!!) early 2020!</td><td>Apple Products                                                  </td><td> 0                                                              </td><td>0                                                               </td><td>0                                                               </td><td>0                                                               </td><td>0                                                               </td><td>0                                                               </td></tr>\n",
       "\t<tr><td>All Of Apple's Products                                         </td><td>Apple Products                                                  </td><td> 5                                                              </td><td>2                                                               </td><td>3                                                               </td><td>3                                                               </td><td>0                                                               </td><td>3                                                               </td></tr>\n",
       "\t<tr><td>Apple products collection                                       </td><td>Apple Products                                                  </td><td> 1                                                              </td><td>0                                                               </td><td>1                                                               </td><td>1                                                               </td><td>1                                                               </td><td>0                                                               </td></tr>\n",
       "\t<tr><td>Apple’s Product Evolution                                       </td><td>Apple Products                                                  </td><td> 2                                                              </td><td>1                                                               </td><td>1                                                               </td><td>2                                                               </td><td>0                                                               </td><td>2                                                               </td></tr>\n",
       "</tbody>\n",
       "</table>\n"
      ],
      "text/latex": [
       "\\begin{tabular}{r|llllllll}\n",
       " Video.Name & Category & Actual.Count & Females & Males & Results & Found.Females & Found.Males\\\\\n",
       "\\hline\n",
       "\t 3 Products Apple Should've Made                                  & Apple Products                                                   &  1                                                               & 0                                                                & 1                                                                & 3                                                                & 3                                                                & 0                                                               \\\\\n",
       "\t 8 Discontinued Apple Products You May Not Remember               & Apple Products                                                   & 17                                                               & 8                                                                & 9                                                                & 4                                                                & 2                                                                & 2                                                               \\\\\n",
       "\t 11 Awesome New apple products coming soon (LEAKED!!) early 2020! & Apple Products                                                   &  0                                                               & 0                                                                & 0                                                                & 0                                                                & 0                                                                & 0                                                               \\\\\n",
       "\t All Of Apple's Products                                          & Apple Products                                                   &  5                                                               & 2                                                                & 3                                                                & 3                                                                & 0                                                                & 3                                                               \\\\\n",
       "\t Apple products collection                                        & Apple Products                                                   &  1                                                               & 0                                                                & 1                                                                & 1                                                                & 1                                                                & 0                                                               \\\\\n",
       "\t Apple’s Product Evolution                                        & Apple Products                                                   &  2                                                               & 1                                                                & 1                                                                & 2                                                                & 0                                                                & 2                                                               \\\\\n",
       "\\end{tabular}\n"
      ],
      "text/markdown": [
       "\n",
       "Video.Name | Category | Actual.Count | Females | Males | Results | Found.Females | Found.Males | \n",
       "|---|---|---|---|---|---|\n",
       "| 3 Products Apple Should've Made                                  | Apple Products                                                   |  1                                                               | 0                                                                | 1                                                                | 3                                                                | 3                                                                | 0                                                                | \n",
       "| 8 Discontinued Apple Products You May Not Remember               | Apple Products                                                   | 17                                                               | 8                                                                | 9                                                                | 4                                                                | 2                                                                | 2                                                                | \n",
       "| 11 Awesome New apple products coming soon (LEAKED!!) early 2020! | Apple Products                                                   |  0                                                               | 0                                                                | 0                                                                | 0                                                                | 0                                                                | 0                                                                | \n",
       "| All Of Apple's Products                                          | Apple Products                                                   |  5                                                               | 2                                                                | 3                                                                | 3                                                                | 0                                                                | 3                                                                | \n",
       "| Apple products collection                                        | Apple Products                                                   |  1                                                               | 0                                                                | 1                                                                | 1                                                                | 1                                                                | 0                                                                | \n",
       "| Apple’s Product Evolution                                        | Apple Products                                                   |  2                                                               | 1                                                                | 1                                                                | 2                                                                | 0                                                                | 2                                                                | \n",
       "\n",
       "\n"
      ],
      "text/plain": [
       "  Video.Name                                                      \n",
       "1 3 Products Apple Should've Made                                 \n",
       "2 8 Discontinued Apple Products You May Not Remember              \n",
       "3 11 Awesome New apple products coming soon (LEAKED!!) early 2020!\n",
       "4 All Of Apple's Products                                         \n",
       "5 Apple products collection                                       \n",
       "6 Apples Product Evolution                                       \n",
       "  Category       Actual.Count Females Males Results Found.Females Found.Males\n",
       "1 Apple Products  1           0       1     3       3             0          \n",
       "2 Apple Products 17           8       9     4       2             2          \n",
       "3 Apple Products  0           0       0     0       0             0          \n",
       "4 Apple Products  5           2       3     3       0             3          \n",
       "5 Apple Products  1           0       1     1       1             0          \n",
       "6 Apple Products  2           1       1     2       0             2          "
      ]
     },
     "metadata": {},
     "output_type": "display_data"
    }
   ],
   "source": [
    "head(res)"
   ]
  },
  {
   "cell_type": "markdown",
   "metadata": {},
   "source": [
    "## Accuracy of Predicting Majority of Gender."
   ]
  },
  {
   "cell_type": "code",
   "execution_count": 106,
   "metadata": {
    "collapsed": false
   },
   "outputs": [
    {
     "data": {
      "text/html": [
       "'Overall accuracy: 74.5'"
      ],
      "text/latex": [
       "'Overall accuracy: 74.5'"
      ],
      "text/markdown": [
       "'Overall accuracy: 74.5'"
      ],
      "text/plain": [
       "[1] \"Overall accuracy: 74.5\""
      ]
     },
     "metadata": {},
     "output_type": "display_data"
    },
    {
     "data": {
      "text/html": [
       "74.5"
      ],
      "text/latex": [
       "74.5"
      ],
      "text/markdown": [
       "74.5"
      ],
      "text/plain": [
       "[1] 74.5"
      ]
     },
     "metadata": {},
     "output_type": "display_data"
    }
   ],
   "source": [
    "res$Majority.Females <- res$Females > res$Males  # Majority of people in videos are female\n",
    "res$Majority.Found.Females <- res$Found.Females > res$Found.Males  # Majority of people in videos are female\n",
    "accuracy <- sum(res$Majority.Females == res$Majority.Found.Females)/nrow(res)*100\n",
    "paste(\"Overall accuracy:\", accuracy)\n",
    "accuracy"
   ]
  },
  {
   "cell_type": "markdown",
   "metadata": {},
   "source": [
    "## Accuracy of Independent Groups"
   ]
  },
  {
   "cell_type": "code",
   "execution_count": 190,
   "metadata": {
    "collapsed": false
   },
   "outputs": [
    {
     "data": {
      "text/html": [
       "<table>\n",
       "<thead><tr><th scope=col>Category</th><th scope=col>Accuracy</th></tr></thead>\n",
       "<tbody>\n",
       "\t<tr><td>Apple       </td><td>75          </td></tr>\n",
       "\t<tr><td>Call of Duty</td><td>85          </td></tr>\n",
       "\t<tr><td>Coldplay    </td><td>80          </td></tr>\n",
       "\t<tr><td>dance       </td><td>35          </td></tr>\n",
       "\t<tr><td>Donald Trump</td><td>85          </td></tr>\n",
       "\t<tr><td>introduction</td><td>85          </td></tr>\n",
       "\t<tr><td>marketplace </td><td>65          </td></tr>\n",
       "\t<tr><td>oscar       </td><td>70          </td></tr>\n",
       "\t<tr><td>Sushi       </td><td>80          </td></tr>\n",
       "\t<tr><td>Tartu       </td><td>85          </td></tr>\n",
       "</tbody>\n",
       "</table>\n"
      ],
      "text/latex": [
       "\\begin{tabular}{ll}\n",
       " Category & Accuracy\\\\\n",
       "\\hline\n",
       "\t Apple        & 75          \\\\\n",
       "\t Call of Duty & 85          \\\\\n",
       "\t Coldplay     & 80          \\\\\n",
       "\t dance        & 35          \\\\\n",
       "\t Donald Trump & 85          \\\\\n",
       "\t introduction & 85          \\\\\n",
       "\t marketplace  & 65          \\\\\n",
       "\t oscar        & 70          \\\\\n",
       "\t Sushi        & 80          \\\\\n",
       "\t Tartu        & 85          \\\\\n",
       "\\end{tabular}\n"
      ],
      "text/markdown": [
       "\n",
       "Category | Accuracy | \n",
       "|---|---|---|---|---|---|---|---|---|---|\n",
       "| Apple        | 75           | \n",
       "| Call of Duty | 85           | \n",
       "| Coldplay     | 80           | \n",
       "| dance        | 35           | \n",
       "| Donald Trump | 85           | \n",
       "| introduction | 85           | \n",
       "| marketplace  | 65           | \n",
       "| oscar        | 70           | \n",
       "| Sushi        | 80           | \n",
       "| Tartu        | 85           | \n",
       "\n",
       "\n"
      ],
      "text/plain": [
       "      Category     Accuracy\n",
       " [1,] Apple        75      \n",
       " [2,] Call of Duty 85      \n",
       " [3,] Coldplay     80      \n",
       " [4,] dance        35      \n",
       " [5,] Donald Trump 85      \n",
       " [6,] introduction 85      \n",
       " [7,] marketplace  65      \n",
       " [8,] oscar        70      \n",
       " [9,] Sushi        80      \n",
       "[10,] Tartu        85      "
      ]
     },
     "metadata": {},
     "output_type": "display_data"
    }
   ],
   "source": [
    "categories <- unique(res$Category)\n",
    "categories <- lapply(categories, as.character)\n",
    "cat_acc <- matrix(NA, nrow = length(categories), ncol = 2)\n",
    "\n",
    "for(i in c(1:length(categories)))\n",
    "{\n",
    "    temp <- res[res$Category == categories[i],]\n",
    "    females <- temp$Females > temp$Males  # Majority of people in videos are female\n",
    "    found.females <- temp$Found.Females > temp$Found.Males  # Majority of people in videos are female\n",
    "    accuracy <- sum(females == found.females)/nrow(temp)*100\n",
    "    cat <- categories[[i]]\n",
    "    cat_acc[i,] <- cbind(cat, as.numeric(accuracy))\n",
    "}\n",
    "\n",
    "colnames(cat_acc) <- c(\"Category\", \"Accuracy\")\n",
    "cat_acc[1,1] <- \"Apple\"\n",
    "cat_acc"
   ]
  },
  {
   "cell_type": "markdown",
   "metadata": {},
   "source": [
    "## Plot Gender Recognition Accuracy of Category"
   ]
  },
  {
   "cell_type": "code",
   "execution_count": 191,
   "metadata": {
    "collapsed": false,
    "scrolled": false
   },
   "outputs": [
    {
     "data": {},
     "metadata": {},
     "output_type": "display_data"
    },
    {
     "data": {
      "image/png": "[encoded data removed]",
      "text/plain": [
       "plot without title"
      ]
     },
     "metadata": {},
     "output_type": "display_data"
    }
   ],
   "source": [
    "p2 <- ggplot()+\n",
    "geom_bar(aes(x = cat_acc[,1], y = as.numeric(cat_acc[,2])), stat='identity')+\n",
    "geom_text(aes(x=cat_acc[,1], y = as.numeric(cat_acc[,2]), label=cat_acc[,1], hjust = 1.1, angle = 90),\n",
    "          col = \"white\")+\n",
    "theme_bw()+\n",
    "ggtitle(\"Gender Recognition Accuracy of Categories\")+\n",
    "ylab(\"Accuracy\")+\n",
    "xlab(\"Category\")+\n",
    "ylim(0, 100)+\n",
    "theme(axis.text.x = element_text(angle = 90, hjust = 1))+\n",
    "theme(axis.title.x=element_blank(),\n",
    "        axis.text.x=element_blank(),\n",
    "        axis.ticks.x=element_blank())\n",
    "\n",
    "p2"
   ]
  },
  {
   "cell_type": "code",
   "execution_count": 192,
   "metadata": {
    "collapsed": false
   },
   "outputs": [],
   "source": [
    "#ggsave(\"gender_accuracy.png\", p2)\n",
    "ggsave(filename=\"gender_accuracy.png\", plot=p2, height = 2.1, width = 6)"
   ]
  }
 ],
 "metadata": {
  "kernelspec": {
   "display_name": "R",
   "language": "R",
   "name": "ir"
  },
  "language_info": {
   "codemirror_mode": "r",
   "file_extension": ".r",
   "mimetype": "text/x-r-source",
   "name": "R",
   "pygments_lexer": "r",
   "version": "3.3.2"
  },
  "toc": {
   "colors": {
    "hover_highlight": "#DAA520",
    "running_highlight": "#FF0000",
    "selected_highlight": "#FFD700"
   },
   "moveMenuLeft": true,
   "nav_menu": {
    "height": "149px",
    "width": "252px"
   },
   "navigate_menu": true,
   "number_sections": true,
   "sideBar": true,
   "threshold": 4,
   "toc_cell": false,
   "toc_position": {
    "height": "510px",
    "left": "0px",
    "right": "1072px",
    "top": "106px",
    "width": "212px"
   },
   "toc_section_display": "block",
   "toc_window_display": true,
   "widenNotebook": false
  }
 },
 "nbformat": 4,
 "nbformat_minor": 2
}
