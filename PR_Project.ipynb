{
 "cells": [
  {
   "cell_type": "code",
   "execution_count": 5,
   "metadata": {},
   "outputs": [
    {
     "name": "stdout",
     "output_type": "stream",
     "text": [
      "3.1.0\n"
     ]
    }
   ],
   "source": [
    "import cv2\n",
    "print(cv2.__version__)"
   ]
  },
  {
   "cell_type": "code",
   "execution_count": 16,
   "metadata": {},
   "outputs": [
    {
     "data": {
      "text/plain": [
       "True"
      ]
     },
     "execution_count": 16,
     "metadata": {},
     "output_type": "execute_result"
    }
   ],
   "source": [
    "8 % 4 == 0"
   ]
  },
  {
   "cell_type": "code",
   "execution_count": 6,
   "metadata": {
    "collapsed": true
   },
   "outputs": [],
   "source": [
    "# Converts video to frames\n",
    "# video_path: Location of the input video file\n",
    "# target_path: Location of the output frames\n",
    "# skip: how many frames are going to be skipped\n",
    "def videoToFrames(video_path, target_path, skip = 3):\n",
    "    vidcap = cv2.VideoCapture(video_path)\n",
    "    success,image = vidcap.read()\n",
    "    count = 0\n",
    "    success = True\n",
    "    while success:\n",
    "        success,image = vidcap.read()\n",
    "        if count % (skip + 1) == 0:  # In default: Skip 3 frames, save only every 4th frame\n",
    "            #print 'Read a new frame: ', success\n",
    "            cv2.imwrite(\"%s/frame%d.jpg\" % (target_path, count), image)  # save frame as JPEG file\n",
    "        count += 1\n",
    "    \n",
    "    vidcap.release()\n",
    "    "
   ]
  },
  {
   "cell_type": "code",
   "execution_count": 21,
   "metadata": {},
   "outputs": [],
   "source": [
    "# TODO at the moment assumes that second level has only folders and third level only videos - make it fancier if needed\n",
    "# TODO add option to delete old frames from target directory\n",
    "# TODO try catch for os errors\n",
    "\n",
    "import os\n",
    "\n",
    "# Convert all videos from input folder to frames and put into target folder\n",
    "# input_folder (str): Folder that is checked for videos\n",
    "# target_folder (str): Folder where video frames are added\n",
    "def videosToFrames(input_folder = \"Videos\", target_folder = \"Frames\", skip = 3):\n",
    "    \n",
    "    try:\n",
    "    \n",
    "        dirs = os.listdir(input_folder)\n",
    "\n",
    "        # Go through all subdirectories\n",
    "        for dir_name in dirs:  # d - keyword inserted into youtube (to group videos)\n",
    "            d_path = \"%s/%s\" % (input_folder, dir_name)\n",
    "            videos = os.listdir(d_path)\n",
    "\n",
    "            # Go through all the videos\n",
    "            for v_name in videos:  # get all video names\n",
    "                video_path = \"%s/%s\" % (d_path, v_name)\n",
    "                v_name_new = \".\".join(v_name.split(\".\")[:-1])  # Remove file extension from the video name\n",
    "                v_name_new = v_name_new.replace(\"?\",\"\")  # Remove question marks from folder path.\n",
    "                target_path = \"%s/%s/%s\" % (target_folder, dir_name, v_name_new)\n",
    "\n",
    "            if not os.path.exists(target_path):  # Create directory to target folder if needed\n",
    "                os.makedirs(target_path)\n",
    "\n",
    "            # Convert video to frames\n",
    "            videoToFrames(video_path = video_path, target_path = target_path, skip = skip)\n",
    "            print(\"Videos are finished processing for directory: \" + dir_name )\n",
    "        \n",
    "    except os.error as e:\n",
    "        print(e)\n",
    "    "
   ]
  },
  {
   "cell_type": "code",
   "execution_count": null,
   "metadata": {},
   "outputs": [
    {
     "name": "stdout",
     "output_type": "stream",
     "text": [
      "Videos are finished processing for directory: Apple products\n",
      "Videos are finished processing for directory: Call of Duty\n",
      "Videos are finished processing for directory: Coldplay\n",
      "Videos are finished processing for directory: dance\n",
      "Videos are finished processing for directory: Donald Trump\n",
      "Videos are finished processing for directory: introduction\n"
     ]
    }
   ],
   "source": [
    "videosToFrames()\n"
   ]
  }
 ],
 "metadata": {
  "kernelspec": {
   "display_name": "Python 2",
   "language": "python",
   "name": "python2"
  },
  "language_info": {
   "codemirror_mode": {
    "name": "ipython",
    "version": 2
   },
   "file_extension": ".py",
   "mimetype": "text/x-python",
   "name": "python",
   "nbconvert_exporter": "python",
   "pygments_lexer": "ipython2",
   "version": "2.7.13"
  }
 },
 "nbformat": 4,
 "nbformat_minor": 2
}
